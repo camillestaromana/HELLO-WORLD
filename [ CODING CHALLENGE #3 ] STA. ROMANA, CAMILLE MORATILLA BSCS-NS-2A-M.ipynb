{
 "cells": [
  {
   "cell_type": "code",
   "execution_count": 1,
   "metadata": {},
   "outputs": [
    {
     "name": "stdout",
     "output_type": "stream",
     "text": [
      "Current date and time : \n",
      "2021-01-20 01:26:19\n"
     ]
    }
   ],
   "source": [
    "#################################### PYTHON BASIC EXERCISE 3 #####################################\n",
    "################################ WRITE A PYTHON PROGRAM TO DISPLAY #############################\n",
    "#################################### THE CURRENT DATE AND TIME ##################################\n",
    "\n",
    "import datetime\n",
    "now = datetime.datetime.now()\n",
    "print (\"Current date and time : \")\n",
    "print (now.strftime(\"%Y-%m-%d %H:%M:%S\"))"
   ]
  },
  {
   "cell_type": "code",
   "execution_count": 2,
   "metadata": {},
   "outputs": [
    {
     "name": "stdout",
     "output_type": "stream",
     "text": [
      "Input number : 1\n",
      "123\n"
     ]
    }
   ],
   "source": [
    "#################################### PYTHON BASIC EXERCISE 3 #####################################\n",
    "####################### WRITE A PYTHON PROGRAM THAT ACCEPTS AN INTEGER ########################\n",
    "######################### ( n ) AND COMPUTES THE VALUE n + nn + nnn #################################\n",
    "\n",
    "i= int(input(\"Input number : \"))\n",
    "num1 = int( \"%s\" % i )\n",
    "num2 = int( \"%s%s\" % (i,i) )\n",
    "num3 = int( \"%s%s%s\" % (i,i,i) )\n",
    "print (num1 + num2 + num3)"
   ]
  },
  {
   "cell_type": "code",
   "execution_count": 3,
   "metadata": {},
   "outputs": [
    {
     "name": "stdout",
     "output_type": "stream",
     "text": [
      "9\n"
     ]
    }
   ],
   "source": [
    "#################################### PYTHON BASIC EXERCISE 3 ########################################\n",
    "################################ WRITE A PYTHON PROGRAM TO CALCULATE #############################\n",
    "################################# NUMBER OF DAYS BETWEEN TWO DATES ###############################\n",
    "\n",
    "from datetime import date\n",
    "f_date = date(2014, 7, 2)\n",
    "l_date = date(2014, 7, 11)\n",
    "delta = l_date - f_date\n",
    "print(delta.days)"
   ]
  },
  {
   "cell_type": "code",
   "execution_count": 4,
   "metadata": {},
   "outputs": [
    {
     "name": "stdout",
     "output_type": "stream",
     "text": [
      "Enter an integer: 6\n",
      "This is an Even number.\n"
     ]
    }
   ],
   "source": [
    "#################################### PYTHON BASIC EXERCISE 3 #####################################\n",
    "###### WRITE A PYTHON PROGRAM TO FIND WHETHER A GIVEN NUMBER ( ACCEPT FROM THE USER )  #######\n",
    "###############IS EVEN OR ODD, PRINT OUT AN APPROPRIATE MESSAGE TO THE USER. ###################\n",
    "\n",
    "num = int(input(\"Enter an integer: \"))\n",
    "mod = num % 2\n",
    "if mod > 0:\n",
    "    print(\"This is an Odd umber.\")\n",
    "else:\n",
    "    print(\"This is an Even number.\")"
   ]
  },
  {
   "cell_type": "code",
   "execution_count": 5,
   "metadata": {},
   "outputs": [
    {
     "ename": "SyntaxError",
     "evalue": "invalid syntax (<ipython-input-5-0709e9bda512>, line 5)",
     "output_type": "error",
     "traceback": [
      "\u001b[1;36m  File \u001b[1;32m\"<ipython-input-5-0709e9bda512>\"\u001b[1;36m, line \u001b[1;32m5\u001b[0m\n\u001b[1;33m    defis_vowel(char):\u001b[0m\n\u001b[1;37m                      ^\u001b[0m\n\u001b[1;31mSyntaxError\u001b[0m\u001b[1;31m:\u001b[0m invalid syntax\n"
     ]
    }
   ],
   "source": [
    "#################################### PYTHON BASIC EXERCISE 3 ######################################\n",
    "############################ WRITE A PYTHON PROGRAM TO TEST WHETHER ############################\n",
    "############################## A PASSED LETTER IS A VOWEL OR NOT. ##################################\n",
    "\n",
    "defis_vowel(char):\n",
    "all_vowels = 'aeiou'\n",
    "    return char in all_vowels\n",
    "print(is_vowel('c'))\n",
    "print(is_vowel('e'))"
   ]
  },
  {
   "cell_type": "code",
   "execution_count": 6,
   "metadata": {},
   "outputs": [
    {
     "name": "stdout",
     "output_type": "stream",
     "text": [
      "Base : 2\n",
      "Height : 4\n",
      "area =  4.0\n"
     ]
    }
   ],
   "source": [
    "#################################### PYTHON BASIC EXERCISE 3 #######################################\n",
    "###################### WRITE A PYTHON PROGRAM TO THAT WILL ACCEPT THE BASE #######################\n",
    "######################### AND HEIGHT OF A TRIANGLE AND COMPUTE THE AREA ###########################\n",
    "\n",
    "b = int(input(\"Base : \"))\n",
    "h = int(input(\"Height : \"))\n",
    "\n",
    "area = b*h/2\n",
    "\n",
    "print(\"area = \", area)\n"
   ]
  },
  {
   "cell_type": "code",
   "execution_count": 10,
   "metadata": {},
   "outputs": [
    {
     "ename": "IndentationError",
     "evalue": "unindent does not match any outer indentation level (<tokenize>, line 15)",
     "output_type": "error",
     "traceback": [
      "\u001b[1;36m  File \u001b[1;32m\"<tokenize>\"\u001b[1;36m, line \u001b[1;32m15\u001b[0m\n\u001b[1;33m    return gcd\u001b[0m\n\u001b[1;37m    ^\u001b[0m\n\u001b[1;31mIndentationError\u001b[0m\u001b[1;31m:\u001b[0m unindent does not match any outer indentation level\n"
     ]
    }
   ],
   "source": [
    "#################################### PYTHON BASIC EXERCISE 3 #####################################\n",
    "####################### WRITE A PYTHON PROGRAM TO COMPUTE THE GREATEST #######################\n",
    "###################### COMMON DIVISOR ( GCD ) OF TWO POSITIVE INTEGERS. ##########################\n",
    "\n",
    "defgcd(a,b):\n",
    "gcd = 1\n",
    "\n",
    "    if a % b == 0:\n",
    "        return v\n",
    "\n",
    "    for k in range(int(b/ 2), 0, -1):\n",
    "        if a% k == 0 and b% k == 0:\n",
    "gcd = k\n",
    "            break  \n",
    "        return gcd\n",
    "\n",
    "print(gcd(12, 17))\n",
    "print(gcd(4, 6))"
   ]
  },
  {
   "cell_type": "code",
   "execution_count": 11,
   "metadata": {},
   "outputs": [
    {
     "ename": "IndentationError",
     "evalue": "expected an indented block (<ipython-input-11-b080c44998d7>, line 7)",
     "output_type": "error",
     "traceback": [
      "\u001b[1;36m  File \u001b[1;32m\"<ipython-input-11-b080c44998d7>\"\u001b[1;36m, line \u001b[1;32m7\u001b[0m\n\u001b[1;33m    c= a\u001b[0m\n\u001b[1;37m        ^\u001b[0m\n\u001b[1;31mIndentationError\u001b[0m\u001b[1;31m:\u001b[0m expected an indented block\n"
     ]
    }
   ],
   "source": [
    "################################################ PYTHON BASIC EXERCISE 3 #####################################\n",
    "################################## WRITE A PYTHON PROGRAM TO COMPUTE THE LEAST ############################\n",
    "############################### COMMON MULTIPLE ( LCM ) OF TWO POSITIVE INTEGERS. ############################\n",
    "\n",
    "def lcm(a, b):\n",
    "   if a>b:\n",
    "c= a\n",
    "   else:\n",
    "c = b\n",
    "\n",
    "   while(True):\n",
    "       if((c % a == 0) and (c % b== 0)):\n",
    "           lcm = c\n",
    "           break\n",
    "c += 1\n",
    "\n",
    "   return lcm\n",
    "print(lcm(4, 6))\n",
    "print(lcm(15, 17))"
   ]
  },
  {
   "cell_type": "code",
   "execution_count": 13,
   "metadata": {},
   "outputs": [
    {
     "ename": "SyntaxError",
     "evalue": "invalid syntax (<ipython-input-13-fd8f026bd84c>, line 5)",
     "output_type": "error",
     "traceback": [
      "\u001b[1;36m  File \u001b[1;32m\"<ipython-input-13-fd8f026bd84c>\"\u001b[1;36m, line \u001b[1;32m5\u001b[0m\n\u001b[1;33m    defpersonal_data():\u001b[0m\n\u001b[1;37m                       ^\u001b[0m\n\u001b[1;31mSyntaxError\u001b[0m\u001b[1;31m:\u001b[0m invalid syntax\n"
     ]
    }
   ],
   "source": [
    "######################################################## PYTHON BASIC EXERCISE 3 ####################################################\n",
    "############################################# WRITE A PYTHON PROGRAM TO DISPLAY YOUR DETAILS ######################################\n",
    "############################################ LIKE NAME, AGE, ADDRESS IN THREE DIFFERENT LINES #######################################\n",
    "\n",
    "defpersonal_data():\n",
    "    name, age = \"Camille\", 19\n",
    "    address = \"Aguho, Pateros Metro Manila\"\n",
    "    print(\"Name: {}\\nAge: {}\\nAddress: {}\".format(name, age, address))\n",
    "\n",
    "personal_data()"
   ]
  },
  {
   "cell_type": "code",
   "execution_count": 14,
   "metadata": {},
   "outputs": [
    {
     "name": "stdout",
     "output_type": "stream",
     "text": [
      "(4 + 3) ^ 2) = 49\n"
     ]
    }
   ],
   "source": [
    "######################################################## PYTHON BASIC EXERCISE 3 ###################################################\n",
    "############################################# WRITE A PYTHON PROGRAM TO SOLVE ( x + y ) * ( x + y ) ######################################\n",
    "\n",
    "x, y = 4, 3\n",
    "result = x * x + 2 * x * y + y * y\n",
    "print(\"({} + {}) ^ 2) = {}\".format(x, y, result))"
   ]
  },
  {
   "cell_type": "code",
   "execution_count": 15,
   "metadata": {},
   "outputs": [
    {
     "name": "stdout",
     "output_type": "stream",
     "text": [
      "**********\n",
      "\n"
     ]
    }
   ],
   "source": [
    "######################################################## PYTHON BASIC EXERCISE 3 #########################################################\n",
    "######################################## WRITE A PYTHON PROGRAM TO PRINT WITHOUT NEWLINE OR SPACE ####################################\n",
    "\n",
    "for i in range(0, 10):\n",
    "    print('*', end=\"\")\n",
    "print(\"\\n\")"
   ]
  },
  {
   "cell_type": "code",
   "execution_count": 16,
   "metadata": {},
   "outputs": [
    {
     "name": "stdout",
     "output_type": "stream",
     "text": [
      "Input an integer: 5\n",
      "15.0\n"
     ]
    }
   ],
   "source": [
    "######################################################## PYTHON BASIC EXERCISE 3 #########################################################\n",
    "################################################## WRITE A PYTHON PROGRAM TO FIND THE ###################################################\n",
    "################################################# SUM OF THE FIRST n POSITIVE INTEGERS ####################################################\n",
    "\n",
    "num = int(input(\"Input an integer: \"))\n",
    "sum_number = (num * (num + 1)) / 2\n",
    "print(sum_number)"
   ]
  },
  {
   "cell_type": "code",
   "execution_count": null,
   "metadata": {},
   "outputs": [],
   "source": [
    "######################################################## PYTHON BASIC EXERCISE 3 ##########################################################\n",
    "################################################# WRITE A PYTHON PROGRAM TO CONVERT HEIGHT #############################################\n",
    "################################################## ( IN FEET AND INCHES ) TO CENTIMETERS ####################################################\n",
    "\n",
    "print(\"Height: \")\n",
    "h_ft = int(input(\"Feet: \"))\n",
    "h_inch = int(input(\"Inches: \"))\n",
    "\n",
    "h_inch += h_ft * 12\n",
    "h_cm = round(h_inch * 2.54, 1)\n",
    "\n",
    "print(\"Your height is : %d cm.\" % h_cm)"
   ]
  },
  {
   "cell_type": "code",
   "execution_count": null,
   "metadata": {},
   "outputs": [],
   "source": [
    "######################################################## PYTHON BASIC EXERCISE 3 ##########################################################\n",
    "################################################### WRITE A PYTHON PROGRAM TO CONVERT ##################################################\n",
    "##################################################### ALL UNITS OF TIME INTO SECONDS#######################################################\n",
    "\n",
    "d = int(input(\"Days: \")) * 3600 * 24\n",
    "h = int(input(\"Hours: \")) * 3600\n",
    "m = int(input(\"Minutes: \")) * 60\n",
    "s = int(input(\"Seconds: \"))\n",
    "\n",
    "time = d + h + m + s\n",
    "\n",
    "print(\"The  amounts of seconds\", time)"
   ]
  },
  {
   "cell_type": "code",
   "execution_count": null,
   "metadata": {},
   "outputs": [],
   "source": [
    "######################################################## PYTHON BASIC EXERCISE 3 ##########################################################\n",
    "############################################## WRITE A PYTHON PROGRAM TO CONVERT SECONDS ##############################################\n",
    "################################################## TO DAY, HOUR, MINUTES, AND SECONDS. ####################################################\n",
    "\n",
    "time = float(input(\"Time in seconds: \"))\n",
    "d = time // (24 * 3600)\n",
    "time = time % (24 * 3600)\n",
    "h = time // 3600\n",
    "time %= 3600\n",
    "m = time // 60\n",
    "time %= 60\n",
    "s = time\n",
    "print(\"day:hour:minutes:seconds-> %d:%d:%d:%d\" % (d, h, m, s))"
   ]
  },
  {
   "cell_type": "code",
   "execution_count": null,
   "metadata": {},
   "outputs": [],
   "source": [
    "####################################################### PYTHON BASIC EXERCISE 3 ############################################################\n",
    "########################################## WRITE A PYTHON PROGRAM TO CALCULATE BODY MASS INDEX #########################################\n",
    "\n",
    "h = float(input(\"Height (meters): \"))\n",
    "w = float(input(\"Weight (kilogram): \"))\n",
    "print(\"Body Mass Index (BMI): \", round(w / (h * h), 2))"
   ]
  },
  {
   "cell_type": "code",
   "execution_count": null,
   "metadata": {},
   "outputs": [],
   "source": [
    "######################################################## PYTHON BASIC EXERCISE 3 ##########################################################\n",
    "#########################################WRITE A PYTHON PROGRAM TO GET THE SIZE OF AN OBJECT IN BYTES ###################################\n",
    "\n",
    "import sys\n",
    "str1 = \"one\"\n",
    "str2 = \"four\"\n",
    "str3 = \"three\"\n",
    "print()\n",
    "print(\"Memory size of '\"+str1+\"' = \"+str(sys.getsizeof(str1))+ \" bytes\")\n",
    "print(\"Memory size of '\"+str2+\"' = \"+str(sys.getsizeof(str2))+ \" bytes\")\n",
    "print(\"Memory size of '\"+str3+\"' = \"+str(sys.getsizeof(str3))+ \" bytes\")\n",
    "print()"
   ]
  },
  {
   "cell_type": "code",
   "execution_count": null,
   "metadata": {},
   "outputs": [],
   "source": [
    "######################################################## PYTHON BASIC EXERCISE 3 ##########################################################\n",
    "########################## GIVEN VARIABLES x = 30 and y = 20, WRITE A PYTHON PROGRAM TO PRINT \" 30 + 20 = 50 \" ##################################\n",
    "\n",
    "a = 30\n",
    "b = 20\n",
    "print(\"\\n%d+%d=%d\" % (a, b, a+b))\n",
    "print()"
   ]
  },
  {
   "cell_type": "code",
   "execution_count": null,
   "metadata": {},
   "outputs": [],
   "source": [
    "######################################################## PYTHON BASIC EXERCISE 3 ##########################################################\n",
    "############################################# WRITE A PYTHON PROGRAM TO SWAP TWO VARIABLES #############################################\n",
    "\n",
    "x = 30\n",
    "y = 20\n",
    "print(\"\\nBefore swap x = %d and y = %d\" %(x, y))\n",
    "x, y = y, x\n",
    "print(\"\\nAfter swaping x = %d and y = %d\" %(x, y))\n",
    "print()"
   ]
  },
  {
   "cell_type": "code",
   "execution_count": null,
   "metadata": {},
   "outputs": [],
   "source": [
    "######################################################## PYTHON BASIC EXERCISE 3 ##########################################################\n",
    "#################################### WRITE A PYTHON PROGRAM TO CONVERT TRUE TO 1 AND FALSE TO 0. ########################################\n",
    "\n",
    "a = 'true'\n",
    "a = int(a == 'true')\n",
    "print(a)\n",
    "a = 'abcd'\n",
    "a = int(a == 'true')\n",
    "print(a)"
   ]
  }
 ],
 "metadata": {
  "kernelspec": {
   "display_name": "Python 3",
   "language": "python",
   "name": "python3"
  },
  "language_info": {
   "codemirror_mode": {
    "name": "ipython",
    "version": 3
   },
   "file_extension": ".py",
   "mimetype": "text/x-python",
   "name": "python",
   "nbconvert_exporter": "python",
   "pygments_lexer": "ipython3",
   "version": "3.8.3"
  }
 },
 "nbformat": 4,
 "nbformat_minor": 4
}
