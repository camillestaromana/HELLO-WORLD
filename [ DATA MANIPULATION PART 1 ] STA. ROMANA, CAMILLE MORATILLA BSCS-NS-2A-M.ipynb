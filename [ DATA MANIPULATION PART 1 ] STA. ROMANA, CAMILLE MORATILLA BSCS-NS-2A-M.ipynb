{
 "cells": [
  {
   "cell_type": "code",
   "execution_count": 1,
   "metadata": {},
   "outputs": [],
   "source": [
    "import os"
   ]
  },
  {
   "cell_type": "code",
   "execution_count": 2,
   "metadata": {},
   "outputs": [],
   "source": [
    "folder = \"PART 1\"\n",
    "os.makedirs (folder)"
   ]
  },
  {
   "cell_type": "code",
   "execution_count": null,
   "metadata": {},
   "outputs": [],
   "source": [
    "os.chdir (r'C:\\Sta.Romana\\Camille\\OOP LAB\\OBJECT ORIENTED PROGRAMMING LAB\\DATA MANIPULATION')\n",
    "print (os.getcwd())"
   ]
  },
  {
   "cell_type": "code",
   "execution_count": null,
   "metadata": {},
   "outputs": [],
   "source": [
    "path = os.getcwd()\n",
    "version = 1\n",
    "\n",
    "while version <= 5:\n",
    "    path = r\"..\\PART 1\\VERSION%d\\version%d.%d\" % (version, version, version)\n",
    "    if not os.path.exists(path):\n",
    "        os.makedirs(path)\n",
    "        print (\"Directory [%s] successfully created.\\n\" % path)\n",
    "        version += 1\n",
    "    else:\n",
    "        print (\"Directory [%s] already exists\" % path)\n",
    "        version += 1"
   ]
  }
 ],
 "metadata": {
  "kernelspec": {
   "display_name": "Python 3",
   "language": "python",
   "name": "python3"
  },
  "language_info": {
   "codemirror_mode": {
    "name": "ipython",
    "version": 3
   },
   "file_extension": ".py",
   "mimetype": "text/x-python",
   "name": "python",
   "nbconvert_exporter": "python",
   "pygments_lexer": "ipython3",
   "version": "3.8.3"
  }
 },
 "nbformat": 4,
 "nbformat_minor": 4
}
