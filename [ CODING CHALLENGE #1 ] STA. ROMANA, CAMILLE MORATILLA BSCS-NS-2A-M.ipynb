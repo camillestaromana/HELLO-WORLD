{
 "cells": [
  {
   "cell_type": "code",
   "execution_count": 1,
   "metadata": {},
   "outputs": [],
   "source": [
    "#################### PYTHON BASIC EXERCISE 1 #####################\n",
    "\n",
    "def top():\n",
    "    print(\"  _________\")\n",
    "    print(\" /         \\\\\")\n",
    "    print(\"/           \\\\\")\n",
    "def egg():\n",
    "    top()\n",
    "    bottom()\n",
    "    print\n",
    "def bottom():\n",
    "    print(\"\\\\           /\")\n",
    "    print(\" \\\\_________/\")\n",
    "def line():\n",
    "    print(\"+-----------+\")\n",
    "def cup():\n",
    "    bottom()\n",
    "    line()\n",
    "    print\n",
    "def stop():\n",
    "    top()\n",
    "    print(\"|   STOP    |\")\n",
    "    bottom()\n",
    "    print \n",
    "def hat():\n",
    "    top()\n",
    "    line()\n",
    "    print"
   ]
  },
  {
   "cell_type": "code",
   "execution_count": 2,
   "metadata": {},
   "outputs": [
    {
     "name": "stdout",
     "output_type": "stream",
     "text": [
      "  _________\n",
      " /         \\\n",
      "/           \\\n",
      "\\           /\n",
      " \\_________/\n",
      "\\           /\n",
      " \\_________/\n",
      "+-----------+\n",
      "  _________\n",
      " /         \\\n",
      "/           \\\n",
      "|   STOP    |\n",
      "\\           /\n",
      " \\_________/\n",
      "  _________\n",
      " /         \\\n",
      "/           \\\n",
      "+-----------+\n"
     ]
    }
   ],
   "source": [
    "#main\n",
    "egg()\n",
    "cup()\n",
    "stop()\n",
    "hat()"
   ]
  },
  {
   "cell_type": "code",
   "execution_count": 3,
   "metadata": {},
   "outputs": [],
   "source": [
    "#################### PYTHON BASIC EXERCISE 2 #####################\n",
    "\n",
    "SIZE = 10\n",
    "\n",
    "def bar():\n",
    "    print(\"#\" + \"=\" * ((((SIZE - 1) * 2) + 2 ) * 2)  + \"#\")\n",
    "\n",
    "def original():\n",
    "    for i in range(SIZE - 1,-1,-1):\n",
    "        print(\"|\" + (i * 2) * \" \" + \"<>\" + \".\" * ((SIZE - i - 1) * 4) + \"<>\" + (i * 2) * \" \" + \"|\")\n",
    "\n",
    "def mirrored():\n",
    "    for i in range(0,SIZE):\n",
    "        print(\"|\" + (i * 2) * \" \" + \"<>\" + \".\" * ((SIZE - i - 1) * 4) + \"<>\" + (i * 2) * \" \" + \"|\")"
   ]
  },
  {
   "cell_type": "code",
   "execution_count": 4,
   "metadata": {},
   "outputs": [
    {
     "name": "stdout",
     "output_type": "stream",
     "text": [
      "#========================================#\n",
      "|                  <><>                  |\n",
      "|                <>....<>                |\n",
      "|              <>........<>              |\n",
      "|            <>............<>            |\n",
      "|          <>................<>          |\n",
      "|        <>....................<>        |\n",
      "|      <>........................<>      |\n",
      "|    <>............................<>    |\n",
      "|  <>................................<>  |\n",
      "|<>....................................<>|\n",
      "|<>....................................<>|\n",
      "|  <>................................<>  |\n",
      "|    <>............................<>    |\n",
      "|      <>........................<>      |\n",
      "|        <>....................<>        |\n",
      "|          <>................<>          |\n",
      "|            <>............<>            |\n",
      "|              <>........<>              |\n",
      "|                <>....<>                |\n",
      "|                  <><>                  |\n",
      "#========================================#\n"
     ]
    }
   ],
   "source": [
    "#main\n",
    "bar()\n",
    "original()\n",
    "mirrored()\n",
    "bar()"
   ]
  },
  {
   "cell_type": "code",
   "execution_count": 5,
   "metadata": {},
   "outputs": [],
   "source": [
    "#################### PYTHON BASIC EXERCISE 3 #####################\n",
    "#################### WRITE A FUNCTION OF BOX #####################\n",
    "def box(width,height):\n",
    "    print (width * \"*\")\n",
    "    for i in range(height - 2):\n",
    "        print (\"*\" + (width-2) * \" \" + \"*\")\n",
    "    print(width * \"*\")"
   ]
  },
  {
   "cell_type": "code",
   "execution_count": 6,
   "metadata": {},
   "outputs": [
    {
     "name": "stdout",
     "output_type": "stream",
     "text": [
      "**********\n",
      "*        *\n",
      "**********\n",
      "*****\n",
      "*   *\n",
      "*   *\n",
      "*****\n"
     ]
    }
   ],
   "source": [
    "#main\n",
    "box(10,3)\n",
    "box(5,4)"
   ]
  },
  {
   "cell_type": "code",
   "execution_count": 7,
   "metadata": {},
   "outputs": [
    {
     "name": "stdout",
     "output_type": "stream",
     "text": [
      "c= 5.0\n",
      "c= 5.0\n"
     ]
    }
   ],
   "source": [
    "########################### PYTHON BASIC EXERCISE 3 ##########################\n",
    "#################### HYPOTENUSE OF C IN A RIGHT TRIANGLE #####################\n",
    "\n",
    "from math import *\n",
    "a=3\n",
    "b=4\n",
    "c=sqrt(3**2+4**2)\n",
    "\n",
    "print('c=',c)\n",
    "\n",
    "#change\n",
    "a=-3\n",
    "c=sqrt(3**2 + 4**2)\n",
    "\n",
    "print('c=',c)"
   ]
  },
  {
   "cell_type": "code",
   "execution_count": 8,
   "metadata": {},
   "outputs": [
    {
     "ename": "ModuleNotFoundError",
     "evalue": "No module named 'drawingpanel'",
     "output_type": "error",
     "traceback": [
      "\u001b[1;31m---------------------------------------------------------------------------\u001b[0m",
      "\u001b[1;31mModuleNotFoundError\u001b[0m                       Traceback (most recent call last)",
      "\u001b[1;32m<ipython-input-8-03f3f92ad888>\u001b[0m in \u001b[0;36m<module>\u001b[1;34m\u001b[0m\n\u001b[0;32m      1\u001b[0m \u001b[1;31m########################### PYTHON BASIC EXERCISE 3 ##########################\u001b[0m\u001b[1;33m\u001b[0m\u001b[1;33m\u001b[0m\u001b[1;33m\u001b[0m\u001b[0m\n\u001b[1;32m----> 2\u001b[1;33m \u001b[1;32mfrom\u001b[0m \u001b[0mdrawingpanel\u001b[0m \u001b[1;32mimport\u001b[0m \u001b[1;33m*\u001b[0m\u001b[1;33m\u001b[0m\u001b[1;33m\u001b[0m\u001b[0m\n\u001b[0m\u001b[0;32m      3\u001b[0m \u001b[1;33m\u001b[0m\u001b[0m\n\u001b[0;32m      4\u001b[0m \u001b[0mpanel\u001b[0m \u001b[1;33m=\u001b[0m \u001b[0mDrawingPanel\u001b[0m\u001b[1;33m(\u001b[0m\u001b[1;36m400\u001b[0m\u001b[1;33m,\u001b[0m\u001b[1;36m300\u001b[0m\u001b[1;33m)\u001b[0m\u001b[1;33m\u001b[0m\u001b[1;33m\u001b[0m\u001b[0m\n\u001b[0;32m      5\u001b[0m \u001b[1;33m\u001b[0m\u001b[0m\n",
      "\u001b[1;31mModuleNotFoundError\u001b[0m: No module named 'drawingpanel'"
     ]
    }
   ],
   "source": [
    "########################### PYTHON BASIC EXERCISE 3 ##########################\n",
    "from drawingpanel import *\n",
    "\n",
    "panel = DrawingPanel(400,300)\n",
    "\n",
    "def place(x = 0,y = 0):\n",
    "    panel.canvas.create_rectangle(0 + x,0 + y,100 + x,50 + y, fill=\"black\")\n",
    "    panel.canvas.create_rectangle(60 + x,10 + y,100 + x,30 + y,fill=\"cyan\")\n",
    "    panel.canvas.create_oval(10 + x,40 + y,30 + x,60 + y,fill=\"red\")\n",
    "    panel.canvas.create_oval(60 + x,40 + y,80 + x,60 + y,fill=\"red\")\n",
    "\n",
    "place()\n",
    "panel.sleep(200)\n",
    "panel.clear()\n",
    "place(100)\n",
    "panel.sleep(200)\n",
    "panel.clear()\n",
    "place(200)"
   ]
  },
  {
   "cell_type": "code",
   "execution_count": 9,
   "metadata": {},
   "outputs": [
    {
     "name": "stdout",
     "output_type": "stream",
     "text": [
      "What is your age as of now? 20\n",
      "Great, you are an adult now!\n"
     ]
    }
   ],
   "source": [
    "########################### PYTHON BASIC EXERCISE 4 ##########################\n",
    "\n",
    "age = int(input(\"What is your age as of now? \"))\n",
    "\n",
    "if age >= 10 and age < 18:\n",
    "    print(\"Best year, you are a teenager\")\n",
    "elif age < 10:\n",
    "    print(\"Sorry, please grow up fast\")\n",
    "elif age >= 18:\n",
    "    print(\"Great, you are an adult now!\")\n"
   ]
  },
  {
   "cell_type": "code",
   "execution_count": 10,
   "metadata": {},
   "outputs": [
    {
     "name": "stdout",
     "output_type": "stream",
     "text": [
      "Please input the three coefficient:\n",
      "a = 2\n",
      "b = 4\n",
      "c = 8\n",
      "Sorry, no real roots\n"
     ]
    }
   ],
   "source": [
    "################################## PYTHON BASIC EXERCISE 4 ###############################\n",
    "########################### PYTHON PROGRAM FOR FINDING ROOTS ##########################\n",
    "\n",
    "from math import *\n",
    "\n",
    "def quadraticroots(a,b,c):\n",
    "    if b**2 - 4*a*c < 0:\n",
    "        return False\n",
    "    root1 = (-1 * b + sqrt(b**2 - 4*a*c)) / (2 * a)\n",
    "    root2 = (-1 * b - sqrt(b**2 - 4*a*c)) / (2 * a)\n",
    "    return [root1,root2]\n",
    "\n",
    "print(\"Please input the three coefficient:\")\n",
    "a = int(input(\"a = \"))\n",
    "b = int(input(\"b = \"))\n",
    "c = int(input(\"c = \"))\n",
    "\n",
    "roots = quadraticroots(a,b,c)\n",
    "\n",
    "if roots == False:\n",
    "    print(\"Sorry, no real roots\")\n",
    "elif roots[0] == roots[1]:\n",
    "    print(\"These two roots are the same =\",roots[0],\"(a={},b={},c={})\".format(a,b,c))\n",
    "else:\n",
    "    print(\"root1 = {}\\nroot2 = {} (a={},b={},c={})\".format(roots[0],roots[1],a,b,c))\n",
    "\n",
    "    "
   ]
  },
  {
   "cell_type": "code",
   "execution_count": 11,
   "metadata": {},
   "outputs": [
    {
     "name": "stdout",
     "output_type": "stream",
     "text": [
      "Input String: aeiou\n",
      "The number of vowels is: 5\n"
     ]
    }
   ],
   "source": [
    "################################## PYTHON BASIC EXERCISE 4 ###############################\n",
    "########################### PYTHON PROGRAM TO COUNT VOWELS ###########################\n",
    "\n",
    "word = input(\"Input String: \")\n",
    "vowels = 0\n",
    "\n",
    "for letter in word:\n",
    "    if letter in \"aeiou\":\n",
    "        vowels = vowels + 1\n",
    "        \n",
    "print(\"The number of vowels is:\",vowels)\n"
   ]
  },
  {
   "cell_type": "code",
   "execution_count": null,
   "metadata": {},
   "outputs": [],
   "source": [
    "################################## PYTHON BASIC EXERCISE 4 ##############################\n",
    "\n",
    "numhours = 0\n",
    "6\n",
    "for employees in range(1,3):\n",
    "    hour = 0\n",
    "    days = int(input(\"How many days? \"))\n",
    "    for day in range(0,days):\n",
    "        hours = int(input(\"Hours? \"))\n",
    "        if hours > 8:\n",
    "            hour = hour + 8\n",
    "        else:\n",
    "            hour = hour + hours\n",
    "    print(\"Employee {}'s numhours = {} ({}/day)\".format(employees, hour, hour/days))\n",
    "    numhours = numhours + hour\n",
    "\n",
    "print(\"Total hours for both =\",numhours)"
   ]
  },
  {
   "cell_type": "code",
   "execution_count": null,
   "metadata": {},
   "outputs": [],
   "source": [
    "################################## PYTHON BASIC EXERCISE 5 ##############################\n",
    "a=1\n",
    "product = 1\n",
    "while a:\n",
    "    if a >100:\n",
    "        break\n",
    "    if a % 2 == 1:\n",
    "        product = product + a\n",
    "    a+=1\n",
    "    \n",
    "print (\"Product:\",product)"
   ]
  },
  {
   "cell_type": "code",
   "execution_count": null,
   "metadata": {},
   "outputs": [],
   "source": [
    "################################## PYTHON BASIC EXERCISE 5 ##############################\n",
    "from random import *\n",
    "tries = 0\n",
    "while True:\n",
    "    left = randint(1,6)\n",
    "    right = randint(1,6)\n",
    "    allsum = left + right\n",
    "    print(left,\"+\",right,\"=\",allsum)\n",
    "    tries+=1\n",
    "    if allsum == 7:\n",
    "        print(\"You won after {} tries!\".format(tries))\n",
    "        break"
   ]
  },
  {
   "cell_type": "code",
   "execution_count": null,
   "metadata": {},
   "outputs": [],
   "source": [
    "################################## PYTHON BASIC EXERCISE 5 ##############################\n",
    "from random import *\n",
    "\n",
    "while True:\n",
    "    num = randint(1,6)\n",
    "    numberguess = 0\n",
    "    while True:\n",
    "        print(\"I'm thinking a number between 1 and 100...\")\n",
    "        guess = int(input(\"Your guess? \"))\n",
    "        numberguess+=1\n",
    "        if guess < num:\n",
    "            print(\"It's higher.\")\n",
    "        elif guess > num:\n",
    "            print(\"It's lower\")\n",
    "        else:\n",
    "            print(\"You got it right in {} guesses\".format(numberguess))\n",
    "            break;\n",
    "    playagain = input(\"Do you want to play again? \")\n",
    "    if not playagain == 'y':\n",
    "        break"
   ]
  },
  {
   "cell_type": "code",
   "execution_count": null,
   "metadata": {},
   "outputs": [],
   "source": [
    "################################## PYTHON BASIC EXERCISE 5 ##############################\n",
    "\n",
    "from random import *\n",
    "\n",
    "tries = 0\n",
    "\n",
    "def roll2():\n",
    "    dice1 = randint(1,6)\n",
    "    dice2 = randint(1,6)\n",
    "    return (dice1,dice2)\n",
    "\n",
    "while True:\n",
    "    d1, d2 = roll2()\n",
    "    allSum = d1 + d2\n",
    "    print(d1, \"+\", d2, \"=\", allSum)\n",
    "    tries+=1\n",
    "    if allSum == 7:\n",
    "        print(\"You won after {} tries!\".format(tries))\n",
    "        break"
   ]
  }
 ],
 "metadata": {
  "kernelspec": {
   "display_name": "Python 3",
   "language": "python",
   "name": "python3"
  },
  "language_info": {
   "codemirror_mode": {
    "name": "ipython",
    "version": 3
   },
   "file_extension": ".py",
   "mimetype": "text/x-python",
   "name": "python",
   "nbconvert_exporter": "python",
   "pygments_lexer": "ipython3",
   "version": "3.8.3"
  }
 },
 "nbformat": 4,
 "nbformat_minor": 4
}
