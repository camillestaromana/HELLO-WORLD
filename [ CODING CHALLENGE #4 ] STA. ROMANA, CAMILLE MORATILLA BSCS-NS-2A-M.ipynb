{
 "cells": [
  {
   "cell_type": "code",
   "execution_count": 1,
   "metadata": {},
   "outputs": [
    {
     "name": "stdout",
     "output_type": "stream",
     "text": [
      "V\n",
      "IIII\n",
      "III\n",
      "II\n",
      "I\n"
     ]
    }
   ],
   "source": [
    "class py_solution:\n",
    "    def convert_to_roman(self, numeral):\n",
    "        val = [\n",
    "            (9), (10),\n",
    "            (5), (6), (7), (8),\n",
    "            (1), (2), (3), (4),\n",
    "            ]\n",
    "        syb = [\n",
    "            (\"IX\"), (\"X\"),\n",
    "            (\"V\"), (\"VI\"), (\"VII\"), (\"VIII\"),\n",
    "            (\"I\"), (\"II\"), (\"III\"), (\"IV\"),\n",
    "            ]\n",
    "        roman_numeral = ''\n",
    "        i = 0\n",
    "        while  numeral > 0:\n",
    "            for _ in range(numeral // val[i]):\n",
    "                roman_numeral += syb[i]\n",
    "                numeral -= val[i]\n",
    "            i += 1\n",
    "        return roman_numeral\n",
    "\n",
    "\n",
    "print(py_solution().convert_to_roman(5))\n",
    "print(py_solution().convert_to_roman(4))\n",
    "print(py_solution().convert_to_roman(3))\n",
    "print(py_solution().convert_to_roman(2))\n",
    "print(py_solution().convert_to_roman(1))"
   ]
  },
  {
   "cell_type": "code",
   "execution_count": 2,
   "metadata": {},
   "outputs": [
    {
     "name": "stdout",
     "output_type": "stream",
     "text": [
      "1999\n",
      "846\n",
      "2420\n",
      "707\n",
      "665\n",
      "1800\n",
      "890\n"
     ]
    }
   ],
   "source": [
    "class py_solution:\n",
    "    def convert_to_integer(self, s):\n",
    "        numeral_val = {'I': 1, 'V': 5, 'X': 10, 'L': 50, 'C': 100, 'D': 500, 'M': 1000}\n",
    "        integer_val = 0\n",
    "        for i in range(len(s)):\n",
    "            if i > 0 and numeral_val[s[i]] > numeral_val[s[i - 1]]:\n",
    "                integer_val += numeral_val[s[i]] - 2 * numeral_val[s[i - 1]]\n",
    "            else:\n",
    "                integer_val += numeral_val[s[i]]\n",
    "        return integer_val\n",
    "\n",
    "print(py_solution().convert_to_integer('MCMXCIX'))\n",
    "print(py_solution().convert_to_integer('DCCCXLVI'))\n",
    "print(py_solution().convert_to_integer('MMCDXX'))\n",
    "print(py_solution().convert_to_integer('DCCVII'))\n",
    "print(py_solution().convert_to_integer('DCLXV'))\n",
    "print(py_solution().convert_to_integer('MDCCC'))\n",
    "print(py_solution().convert_to_integer('DCCCXC'))"
   ]
  },
  {
   "cell_type": "code",
   "execution_count": 3,
   "metadata": {},
   "outputs": [
    {
     "name": "stdout",
     "output_type": "stream",
     "text": [
      "{}()[] True, the string contains valid parentheses.\n",
      "{][} False, contains invalid parentheses.\n",
      ") contains invalid parentheses.\n"
     ]
    }
   ],
   "source": [
    "def valid_paren(input_str):\n",
    "  # Declaraing a stack.\n",
    "  stack = []\n",
    "  # Iterating over the entire string\n",
    "  for paren in input_str:\n",
    "    # If the input string contains an opening parenthesis,\n",
    "    # push in on to the stack.\n",
    "    if paren == '(' or paren == '[' or paren == '{':\n",
    "      stack.append(paren)\n",
    "    else:\n",
    "      # In the case of valid parentheses, the stack cannot be \n",
    "      # be empty if a closing parenthesis is encountered.\n",
    "      if not stack:\n",
    "        print(input_str, \"contains invalid parentheses.\")\n",
    "        return\n",
    "      else:\n",
    "        # If the input string contains a closing bracket,\n",
    "        # then pop the corresponding opening parenthesis if\n",
    "        # present.\n",
    "        top = stack[-1]\n",
    "        if paren == ')' and top == '(' or \\\n",
    "        paren == ']' and top == '[' or \\\n",
    "        paren == '}' and top == '{':\n",
    "          stack.pop()\n",
    "  # Checking the status of the stack to determine the\n",
    "  # validity of the string.\n",
    "  if not stack:\n",
    "    print(input_str, \"True, the string contains valid parentheses.\")\n",
    "  else:\n",
    "    print(input_str, \"False, contains invalid parentheses.\")\n",
    "\n",
    "input1 = \"{}()[]\"\n",
    "input2 = \"{][}\"\n",
    "input3 = \")\"\n",
    "valid_paren(input1)\n",
    "valid_paren(input2)\n",
    "valid_paren(input3)"
   ]
  },
  {
   "cell_type": "code",
   "execution_count": 4,
   "metadata": {},
   "outputs": [
    {
     "name": "stdout",
     "output_type": "stream",
     "text": [
      "[[], [25], [13], [13, 25], [2], [2, 25], [2, 13], [2, 13, 25]]\n"
     ]
    }
   ],
   "source": [
    "class py_solution:\n",
    "    def s_set(self, ss):\n",
    "        return self.subsetsRecur([], sorted(ss))\n",
    "    \n",
    "    def subsetsRecur(self, current, ss):\n",
    "        if ss:\n",
    "            return self.subsetsRecur(current, ss[1:]) + self.subsetsRecur(current + [ss[0]], ss[1:])\n",
    "        return [current]\n",
    "\n",
    "print(py_solution().s_set([25,13,2,]))"
   ]
  },
  {
   "cell_type": "code",
   "execution_count": 5,
   "metadata": {},
   "outputs": [
    {
     "name": "stdout",
     "output_type": "stream",
     "text": [
      "Count of pairs is 2\n"
     ]
    }
   ],
   "source": [
    "# Returns number of pairs in arr[0..n-1]  \n",
    "# with sum equal to 'sum' \n",
    "def getPairsCount(arr, n, sum): \n",
    "      \n",
    "    count = 0 # Initialize result \n",
    "  \n",
    "    # Consider all possible pairs \n",
    "    # and check their sums \n",
    "    for i in range(0, n): \n",
    "        for j in range(i + 1, n): \n",
    "            if arr[i] + arr[j] == sum: \n",
    "                count += 1\n",
    "      \n",
    "    return count \n",
    "  \n",
    "# Driver function  \n",
    "arr = [4, 6, 2, 3, 5] \n",
    "n = len(arr) \n",
    "sum = 8\n",
    "print(\"Count of pairs is\", \n",
    "      getPairsCount(arr, n, sum)) "
   ]
  },
  {
   "cell_type": "code",
   "execution_count": 6,
   "metadata": {},
   "outputs": [
    {
     "name": "stdout",
     "output_type": "stream",
     "text": [
      "-14 6 8\n",
      "0 -77 77\n",
      "78 -77 -1\n"
     ]
    }
   ],
   "source": [
    "def findTriplets(arr, n): \n",
    "    found = False\n",
    "    for i in range(n - 1): \n",
    "  \n",
    "        # Find all pairs with sum  \n",
    "        # equals to \"-arr[i]\"  \n",
    "        s = set() \n",
    "        for j in range(i + 1, n): \n",
    "            x = -(arr[i] + arr[j]) \n",
    "            if x in s: \n",
    "                print(x, arr[i], arr[j]) \n",
    "                found = True\n",
    "            else: \n",
    "                s.add(arr[j]) \n",
    "    if found == False: \n",
    "        print(\"No Triplet Found\") \n",
    "  \n",
    "# Driver Code \n",
    "arr = [6, -14, 8, -77, 0, 77, 78, -1] \n",
    "n = len(arr) \n",
    "findTriplets(arr, n) "
   ]
  },
  {
   "cell_type": "code",
   "execution_count": 7,
   "metadata": {},
   "outputs": [
    {
     "name": "stdout",
     "output_type": "stream",
     "text": [
      "8\n"
     ]
    }
   ],
   "source": [
    "def power(x, y): \n",
    "  \n",
    "    if (y == 0): return 1\n",
    "    elif (int(y % 2) == 0): \n",
    "        return (power(x, int(y / 2)) *\n",
    "               power(x, int(y / 2))) \n",
    "    else: \n",
    "        return (x * power(x, int(y / 2)) *\n",
    "                   power(x, int(y / 2))) \n",
    "  \n",
    "# Driver Code \n",
    "x = 2; y = 3\n",
    "print(power(x, y))"
   ]
  },
  {
   "cell_type": "code",
   "execution_count": 8,
   "metadata": {},
   "outputs": [
    {
     "name": "stdout",
     "output_type": "stream",
     "text": [
      "BOYCOTT GODOY BUDOY\n"
     ]
    }
   ],
   "source": [
    "def reverse_sentence(sentence): \n",
    "  \n",
    "    # first split the string into words \n",
    "    words = sentence.split(' ')  \n",
    "  \n",
    "    # then reverse the split string list and join using space \n",
    "    reverse_sentence = ' '.join(reversed(words))  \n",
    "  \n",
    "    # finally return the joined string \n",
    "    return reverse_sentence   \n",
    "  \n",
    "if __name__ == \"__main__\": \n",
    "    input = 'BUDOY GODOY BOYCOTT'\n",
    "    print (reverse_sentence(input))"
   ]
  },
  {
   "cell_type": "code",
   "execution_count": 10,
   "metadata": {},
   "outputs": [
    {
     "name": "stdout",
     "output_type": "stream",
     "text": [
      "THIS SHOULD BE UPPERCASE!\n"
     ]
    }
   ],
   "source": [
    "# example string\n",
    "string = \"this should be uppercase!\"\n",
    "print(string.upper())"
   ]
  },
  {
   "cell_type": "code",
   "execution_count": 13,
   "metadata": {},
   "outputs": [
    {
     "name": "stdout",
     "output_type": "stream",
     "text": [
      "144\n"
     ]
    }
   ],
   "source": [
    "class Rectangle():\n",
    "# Python Program to find Area of a Rectangle\n",
    "    def __init__(self, h, b):\n",
    "        self.height = h\n",
    "        self.breadth  = b\n",
    "# Calculate the area\n",
    "    def rectangle_area(self):\n",
    "        return self.height*self.breadth\n",
    "\n",
    "Area = Rectangle(12, 12)\n",
    "print(Area.rectangle_area())"
   ]
  },
  {
   "cell_type": "code",
   "execution_count": 14,
   "metadata": {},
   "outputs": [
    {
     "name": "stdout",
     "output_type": "stream",
     "text": [
      "1808.64\n",
      "150.72\n"
     ]
    }
   ],
   "source": [
    "# Python Program to Compute the Area and the Perimeter of a Circle.\n",
    "class Circle():\n",
    "    def __init__(self, r):\n",
    "        self.radius = r\n",
    "# Calculate the area\n",
    "    def area(self):\n",
    "        return self.radius**2*3.14\n",
    "# Calculate the Perimeter\n",
    "    def perimeter(self):\n",
    "        return 2*self.radius*3.14\n",
    "\n",
    "NewCircle = Circle(24)\n",
    "print(NewCircle.area())\n",
    "print(NewCircle.perimeter())"
   ]
  },
  {
   "cell_type": "code",
   "execution_count": 15,
   "metadata": {},
   "outputs": [
    {
     "name": "stdout",
     "output_type": "stream",
     "text": [
      "cycle\n"
     ]
    }
   ],
   "source": [
    "# Python program to get the class name of an instance in Python.\n",
    "from functools import wraps\n",
    "from types import FunctionType\n",
    "import itertools\n",
    "x = itertools.cycle('ASDFGHJKL')\n",
    "print(type(x).__name__)\n"
   ]
  },
  {
   "cell_type": "code",
   "execution_count": null,
   "metadata": {},
   "outputs": [],
   "source": []
  }
 ],
 "metadata": {
  "kernelspec": {
   "display_name": "Python 3",
   "language": "python",
   "name": "python3"
  },
  "language_info": {
   "codemirror_mode": {
    "name": "ipython",
    "version": 3
   },
   "file_extension": ".py",
   "mimetype": "text/x-python",
   "name": "python",
   "nbconvert_exporter": "python",
   "pygments_lexer": "ipython3",
   "version": "3.8.3"
  }
 },
 "nbformat": 4,
 "nbformat_minor": 4
}
