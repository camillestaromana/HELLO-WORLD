{
 "cells": [
  {
   "cell_type": "code",
   "execution_count": 1,
   "metadata": {},
   "outputs": [
    {
     "name": "stdout",
     "output_type": "stream",
     "text": [
      "6\n"
     ]
    }
   ],
   "source": [
    "#################################### PYTHON BASIC EXERCISE 2 #####################################\n",
    "#################### WRITE A PYTHON FUNCTION TO FIND THE MAX OF THREE NUMBERS #################\n",
    "\n",
    "def maximum(a, b, c): \n",
    "  \n",
    "    if (a >= b) and (a >= c): \n",
    "        largest = a \n",
    "  \n",
    "    elif (b >= a) and (b >= c): \n",
    "        largest = b \n",
    "    else: \n",
    "        largest = c \n",
    "         \n",
    "    return largest \n",
    "\n",
    "a = 3\n",
    "b = 6\n",
    "c= -5\n",
    "print(maximum(a, b, c))\n"
   ]
  },
  {
   "cell_type": "code",
   "execution_count": 2,
   "metadata": {},
   "outputs": [
    {
     "name": "stdout",
     "output_type": "stream",
     "text": [
      "20\n"
     ]
    }
   ],
   "source": [
    "###################################### PYTHON BASIC EXERCISE 2 #####################################\n",
    "#################### WRITE A PYTHON FUNCTION TO SUM ALL THE NUMBERS IN A LIST ######################\n",
    "\n",
    "def sum(numbers):\n",
    "    total = 0\n",
    "    for i in numbers:\n",
    "        total += i\n",
    "    return total\n",
    "print(sum((8, 2, 3, 0, 7)))\n"
   ]
  },
  {
   "cell_type": "code",
   "execution_count": 3,
   "metadata": {},
   "outputs": [
    {
     "name": "stdout",
     "output_type": "stream",
     "text": [
      "-336\n"
     ]
    }
   ],
   "source": [
    "#################################### PYTHON BASIC EXERCISE 2 ############################################\n",
    "###################### WRITE A PYTHON FUNCTION TO MULTIPLY ALL THE NUMBERS IN A LIST ####################\n",
    "\n",
    "def multiply(numbers):  \n",
    "    total = 1\n",
    "    for i in numbers:\n",
    "        total *= i  \n",
    "    return total  \n",
    "print(multiply((8, 2, 3, -1, 7)))\n"
   ]
  },
  {
   "cell_type": "code",
   "execution_count": 4,
   "metadata": {},
   "outputs": [
    {
     "name": "stdout",
     "output_type": "stream",
     "text": [
      "dcba4321\n"
     ]
    }
   ],
   "source": [
    "################################## PYTHON BASIC EXERCISE 2 #####################################\n",
    "#################### WRITE A PYTHON FUNCTION TO REVERSE A STRING #############################\n",
    "\n",
    "def string_reverse(str1):\n",
    "\n",
    "    rstr1 = ''\n",
    "    index = len(str1)\n",
    "    while index > 0:\n",
    "        rstr1 += str1[ index - 1 ]\n",
    "        index = index - 1\n",
    "    return rstr1\n",
    "print(string_reverse('1234abcd'))\n"
   ]
  },
  {
   "cell_type": "code",
   "execution_count": 5,
   "metadata": {},
   "outputs": [
    {
     "name": "stdout",
     "output_type": "stream",
     "text": [
      "Input a number to compute the factiorial : 18\n",
      "6402373705728000\n"
     ]
    }
   ],
   "source": [
    "#################################### PYTHON BASIC EXERCISE 2 ######################################\n",
    "##################### WRITE A PYTHON FUNCTION TO CALCULATE THE FACTORIAL ########################\n",
    "#################### OF A NUMBER ( A NON-NEGATIVE INTEGER ). THE FUNCTION #########################\n",
    "############################## ACCEPTS THE NUMBER AS AN ARGUMENT  ##############################\n",
    "\n",
    "def factorial(a):\n",
    "    if a == 0:\n",
    "        return 1\n",
    "    else:\n",
    "        return a * factorial(a-1)\n",
    "a=int(input(\"Input a number to compute the factiorial : \"))\n",
    "print(factorial(a))\n"
   ]
  },
  {
   "cell_type": "code",
   "execution_count": 6,
   "metadata": {},
   "outputs": [
    {
     "name": "stdout",
     "output_type": "stream",
     "text": [
      " 5 is in the range\n"
     ]
    }
   ],
   "source": [
    "###################################### PYTHON BASIC EXERCISE 2 #################################################\n",
    "#################### WRITE A PYTHON FUNCTION TO CHECK WHETHER A NUMBER IS IN A GIVEN RANGE ##################\n",
    "\n",
    "def test_range(x):\n",
    "    if x in range(3,9):\n",
    "        print( \" %s is in the range\"%str(x))\n",
    "    else :\n",
    "        print(\"The number is outside the given range.\")\n",
    "test_range(5)\n",
    "\n"
   ]
  },
  {
   "cell_type": "code",
   "execution_count": 7,
   "metadata": {},
   "outputs": [
    {
     "name": "stdout",
     "output_type": "stream",
     "text": [
      "Original String :  The quick Brown Fox\n",
      "Number of Upper case characters :  3\n",
      "Number of Lower case Characters :  13\n"
     ]
    }
   ],
   "source": [
    "#################################### PYTHON BASIC EXERCISE 2 #####################################\n",
    "####################### WRITE A PYTHON FUNCTION THAT ACCEPTS A STRING ##########################\n",
    "####################### AND CALCULATE THE NUMBER OF UPPERCASE LETTERS ########################\n",
    "#################################### AND LOWER CASE LETTERS ####################################\n",
    "\n",
    "def string_test(s):\n",
    "    d={\"UPPER_CASE\":0, \"LOWER_CASE\":0}\n",
    "    for c in s:\n",
    "        if c.isupper():\n",
    "           d[\"UPPER_CASE\"]+=1\n",
    "        elif c.islower():\n",
    "           d[\"LOWER_CASE\"]+=1\n",
    "        else:\n",
    "           pass\n",
    "    print (\"Original String : \", s)\n",
    "    print (\"Number of Upper case characters : \", d[\"UPPER_CASE\"])\n",
    "    print (\"Number of Lower case Characters : \", d[\"LOWER_CASE\"])\n",
    "\n",
    "string_test('The quick Brown Fox')"
   ]
  },
  {
   "cell_type": "code",
   "execution_count": 8,
   "metadata": {},
   "outputs": [
    {
     "name": "stdout",
     "output_type": "stream",
     "text": [
      "[1, 2, 3, 4, 5]\n"
     ]
    }
   ],
   "source": [
    "################################################ PYTHON BASIC EXERCISE 2 #####################################\n",
    "################################ WRITE A PYTHON FUNCTION THAT TAKES A LIST AND RETURNS  #####################\n",
    "################################## A NEW LIST WITH UNIQUE ELEMENTS OF THE FIRST LIST  #########################\n",
    "\n",
    "def unique_list(l):\n",
    "  x = []\n",
    "  for a in l:\n",
    "    if a not in x:\n",
    "      x.append(a)\n",
    "  return x\n",
    "\n",
    "print(unique_list([1,2,3,3,3,3,4,5]))"
   ]
  },
  {
   "cell_type": "code",
   "execution_count": 9,
   "metadata": {},
   "outputs": [
    {
     "name": "stdout",
     "output_type": "stream",
     "text": [
      "False\n"
     ]
    }
   ],
   "source": [
    "######################################################## PYTHON BASIC EXERCISE 2 ####################################################\n",
    "############################################# WRITE A PYTHON FUNCTION THAT TAKES A NUMBER AS A #####################################\n",
    "############################################## PARAMETER AND CHECK THE NUMBER IS PRIME OR NOT ####################################\n",
    "\n",
    "def test_prime(n):\n",
    "    if (n==1):\n",
    "        return False\n",
    "    elif (n==2):\n",
    "        return True;\n",
    "    else:\n",
    "        for x in range(2,n):\n",
    "            if(n % x==0):\n",
    "                return False\n",
    "        return True             \n",
    "print(test_prime(9))"
   ]
  },
  {
   "cell_type": "code",
   "execution_count": 10,
   "metadata": {},
   "outputs": [
    {
     "name": "stdout",
     "output_type": "stream",
     "text": [
      "[2, 4, 6, 8]\n"
     ]
    }
   ],
   "source": [
    "######################################################## PYTHON BASIC EXERCISE 2 #########################################################\n",
    "#################################################### WRITE A PYTHON FUNCTION TO PRINT ###################################################\n",
    "################################################### THE EVEN NUMBERS FROM A GIVEN LIST ##################################################\n",
    "\n",
    "def is_even_num(l):\n",
    "    enum = []\n",
    "    for n in l:\n",
    "        if n % 2 == 0:\n",
    "            enum.append(n)\n",
    "    return enum\n",
    "print(is_even_num([1, 2, 3, 4, 5, 6, 7, 8, 9]))"
   ]
  },
  {
   "cell_type": "code",
   "execution_count": 11,
   "metadata": {},
   "outputs": [
    {
     "name": "stdout",
     "output_type": "stream",
     "text": [
      "True\n"
     ]
    }
   ],
   "source": [
    "######################################################## PYTHON BASIC EXERCISE 2 #########################################################\n",
    "################################################### WRITE A PYTHON FUNCTION TO CHECK ####################################################\n",
    "################################################## WHETHER A NUMBER IS PERFECT OR NOT ##################################################\n",
    "\n",
    "def perfect_number(n):\n",
    "    sum = 0\n",
    "    for x in range(1, n):\n",
    "        if n % x == 0:\n",
    "            sum += x\n",
    "    return sum == n\n",
    "print(perfect_number(6))"
   ]
  },
  {
   "cell_type": "code",
   "execution_count": 12,
   "metadata": {},
   "outputs": [
    {
     "name": "stdout",
     "output_type": "stream",
     "text": [
      "True\n"
     ]
    }
   ],
   "source": [
    "######################################################## PYTHON BASIC EXERCISE 2 #########################################################\n",
    "################################################ WRITE A PYTHON FUNCTION THAT CHECKS WHETHER ##########################################\n",
    "#################################################### A PASSED STRING IS PALINDROME OR NOT ################################################\n",
    "\n",
    "def isPalindrome(string):\n",
    "\tleft_pos = 0\n",
    "\tright_pos = len(string) - 1\n",
    "\t\n",
    "\twhile right_pos >= left_pos:\n",
    "\t\tif not string[left_pos] == string[right_pos]:\n",
    "\t\t\treturn False\n",
    "\t\tleft_pos += 1\n",
    "\t\tright_pos -= 1\n",
    "\treturn True\n",
    "print(isPalindrome('aza'))"
   ]
  },
  {
   "cell_type": "code",
   "execution_count": 13,
   "metadata": {},
   "outputs": [
    {
     "name": "stdout",
     "output_type": "stream",
     "text": [
      "[1]\n",
      "[1, 1]\n",
      "[1, 2, 1]\n",
      "[1, 3, 3, 1]\n",
      "[1, 4, 6, 4, 1]\n",
      "[1, 5, 10, 10, 5, 1]\n"
     ]
    },
    {
     "data": {
      "text/plain": [
       "True"
      ]
     },
     "execution_count": 13,
     "metadata": {},
     "output_type": "execute_result"
    }
   ],
   "source": [
    "######################################################## PYTHON BASIC EXERCISE 2 ##########################################################\n",
    "################################################# WRITE A PYTHON FUNCTION THAT PRINTS OUT ################################################\n",
    "################################################## THE FIRST N ROWS OF PASCAL'S TRIANGLE ##################################################\n",
    "\n",
    "def pascal_triangle(n):\n",
    "   trow = [1]\n",
    "   y = [0]\n",
    "   for x in range(max(n,0)):\n",
    "      print(trow)\n",
    "      trow=[l+r for l,r in zip(trow+y, y+trow)]\n",
    "   return n>=1\n",
    "pascal_triangle(6)"
   ]
  },
  {
   "cell_type": "code",
   "execution_count": 14,
   "metadata": {},
   "outputs": [
    {
     "name": "stdout",
     "output_type": "stream",
     "text": [
      "True\n"
     ]
    }
   ],
   "source": [
    "######################################################## PYTHON BASIC EXERCISE 2 #########################################################\n",
    "################################################### WRITE A PYTHON FUNCTION TO CHECK ####################################################\n",
    "################################################# WHETHER A STRING IS A PANGRAM OR NOT ##################################################\n",
    "\n",
    "import string, sys\n",
    "def ispangram(str1, alphabet=string.ascii_lowercase):\n",
    "    alphaset = set(alphabet)\n",
    "    return alphaset <= set(str1.lower())\n",
    " \n",
    "print ( ispangram('The quick brown fox jumps over the lazy dog'))"
   ]
  },
  {
   "cell_type": "code",
   "execution_count": null,
   "metadata": {},
   "outputs": [],
   "source": [
    "######################################################## PYTHON BASIC EXERCISE 2 ##########################################################\n",
    "########################################## WRITE A PYTHON PROGRAM THAT ACCEPTS A HYPEN-SEPERATED ######################################\n",
    "########################################## SEQUENCE OF WORDS AS INPUT AND PRINTS THE WORDS IN A  ########################################\n",
    "####################################### HYPEN-SEPERATED SEQUENCE AFTER SORTING THEM ALPHABETICALLY ###################################\n",
    "\n",
    "items=[n for n in input().split('-')]\n",
    "items.sort()\n",
    "print('-'.join(items))"
   ]
  },
  {
   "cell_type": "code",
   "execution_count": null,
   "metadata": {},
   "outputs": [],
   "source": [
    "######################################################## PYTHON BASIC EXERCISE 2 ##########################################################\n",
    "############################################ WRITE A PYTHON FUNCTION TO CREATE AND PRINT A  ###############################################\n",
    "################################################ LIST WHERE THE VALUABLES ARE SQUARE OF NUMBERS ##########################################\n",
    "######################################################## BETWEEN 1 AND 30 ( BOTH INCLUDED ) ################################################\n",
    "\n",
    "def printValues():\n",
    "\tl = list()\n",
    "\tfor i in range(1,21):\n",
    "\t\tl.append(i**2)\n",
    "\tprint(l)\n",
    "\t\t\n",
    "printValues()"
   ]
  },
  {
   "cell_type": "code",
   "execution_count": null,
   "metadata": {},
   "outputs": [],
   "source": [
    "######################################################## PYTHON BASIC EXERCISE 2 ##########################################################\n",
    "########################################## WRITE A PYTHON PROGRAM TO MAKE A CHAIN OF FUNCTION ###########################################\n",
    "######################################## DECORATORS ( BOLD, ITALIC, UNDERLINE etc. ) IN PYTHON ###############################################\n",
    "\n",
    "def make_bold(fn):\n",
    "    def wrapped():\n",
    "        return \"<b>\" + fn() + \"</b>\"\n",
    "    return wrapped\n",
    "\n",
    "def make_italic(fn):\n",
    "    def wrapped():\n",
    "        return \"<i>\" + fn() + \"</i>\"\n",
    "    return wrapped\n",
    "\n",
    "def make_underline(fn):\n",
    "    def wrapped():\n",
    "        return \"<u>\" + fn() + \"</u>\"\n",
    "    return wrapped\n",
    "@make_bold\n",
    "@make_italic\n",
    "@make_underline\n",
    "def hello():\n",
    "    return \"hello world\"\n",
    "print(hello()) ## returns \"<b><i><u>hello world</u></i></b>\""
   ]
  },
  {
   "cell_type": "code",
   "execution_count": null,
   "metadata": {},
   "outputs": [],
   "source": [
    "######################################################## PYTHON BASIC EXERCISE 2 ##########################################################\n",
    "################################################## WRITE A PYTHON PROGRAM TO EXECUTE  ###################################################\n",
    "######################################################## A STRING CONTAINING PYTHON CODE #################################################\n",
    "\n",
    "mycode = 'print(\"hello world\")'\n",
    "code = \"\"\"\n",
    "def mutiply(x,y):\n",
    "    return x*y\n",
    "\n",
    "print('Multiply of 2 and 3 is: ',mutiply(2,3))\n",
    "\"\"\"\n",
    "exec(mycode)\n",
    "exec(code)"
   ]
  },
  {
   "cell_type": "code",
   "execution_count": null,
   "metadata": {},
   "outputs": [],
   "source": [
    "######################################################## PYTHON BASIC EXERCISE 2 ##########################################################\n",
    "################################################### WRITE A PYTHON PROGRAM TO ACCESS ####################################################\n",
    "##################################################### A FUNCTION INSIDE A FUNCTION #########################################################\n",
    "\n",
    "def test(a):\n",
    "        def add(b):\n",
    "                nonlocal a\n",
    "                a += 1\n",
    "                return a+b\n",
    "        return add\n",
    "func= test(4)\n",
    "print(func(4))"
   ]
  },
  {
   "cell_type": "code",
   "execution_count": null,
   "metadata": {},
   "outputs": [],
   "source": [
    "######################################################## PYTHON BASIC EXERCISE 2 ##########################################################\n",
    "############################################# WRITE A PYTHON PROGRAM TO DETECT THE NUMBER #############################################\n",
    "############################################## OF LOCAL VARIABLES DECLARED IN A FUNCTION #################################################\n",
    "\n",
    "def abc():\n",
    "    x = 1\n",
    "    y = 2\n",
    "    str1= \"w3resource\"\n",
    "    print(\"Python Exercises\")\n",
    "\n",
    "print(abc.__code__.co_nlocals)"
   ]
  },
  {
   "cell_type": "code",
   "execution_count": null,
   "metadata": {},
   "outputs": [],
   "source": []
  }
 ],
 "metadata": {
  "kernelspec": {
   "display_name": "Python 3",
   "language": "python",
   "name": "python3"
  },
  "language_info": {
   "codemirror_mode": {
    "name": "ipython",
    "version": 3
   },
   "file_extension": ".py",
   "mimetype": "text/x-python",
   "name": "python",
   "nbconvert_exporter": "python",
   "pygments_lexer": "ipython3",
   "version": "3.8.3"
  }
 },
 "nbformat": 4,
 "nbformat_minor": 4
}
